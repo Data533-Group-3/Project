{
 "cells": [
  {
   "cell_type": "code",
   "execution_count": 18,
   "metadata": {},
   "outputs": [
    {
     "name": "stdout",
     "output_type": "stream",
     "text": [
      "List of tables\n",
      "\n",
      "[('members',), ('transactions',)]\n"
     ]
    }
   ],
   "source": [
    "import sqlite3\n",
    "import customer_function as func\n",
    "try:\n",
    "    cnx = sqlite3.connect(\"Supermarket.db\")\n",
    "    cursor = cnx.cursor()\n",
    "    sql_query = \"\"\"SELECT name FROM sqlite_master \n",
    "    WHERE type='table';\"\"\"\n",
    "    cursor.execute(sql_query)\n",
    "    print(\"List of tables\\n\")\n",
    "    print(cursor.fetchall())\n",
    "except sqlite3.Error as err:\n",
    "    print(err)"
   ]
  },
  {
   "cell_type": "code",
   "execution_count": 22,
   "metadata": {},
   "outputs": [
    {
     "ename": "AttributeError",
     "evalue": "module 'customer_function' has no attribute 'connect_database'",
     "output_type": "error",
     "traceback": [
      "\u001b[0;31m---------------------------------------------------------------------------\u001b[0m",
      "\u001b[0;31mAttributeError\u001b[0m                            Traceback (most recent call last)",
      "\u001b[1;32m/Users/yujinxin/Documents/UBC MDS/Data 533/project_draft/project_test(working on)/customer/test.ipynb Cell 2\u001b[0m line \u001b[0;36m1\n\u001b[0;32m----> <a href='vscode-notebook-cell:/Users/yujinxin/Documents/UBC%20MDS/Data%20533/project_draft/project_test%28working%20on%29/customer/test.ipynb#W1sZmlsZQ%3D%3D?line=0'>1</a>\u001b[0m func\u001b[39m.\u001b[39;49mconnect_database()\n\u001b[1;32m      <a href='vscode-notebook-cell:/Users/yujinxin/Documents/UBC%20MDS/Data%20533/project_draft/project_test%28working%20on%29/customer/test.ipynb#W1sZmlsZQ%3D%3D?line=1'>2</a>\u001b[0m func\u001b[39m.\u001b[39mlogin()\n",
      "\u001b[0;31mAttributeError\u001b[0m: module 'customer_function' has no attribute 'connect_database'"
     ]
    }
   ],
   "source": [
    "func.connect_database()\n",
    "func.login()"
   ]
  }
 ],
 "metadata": {
  "kernelspec": {
   "display_name": "base",
   "language": "python",
   "name": "python3"
  },
  "language_info": {
   "codemirror_mode": {
    "name": "ipython",
    "version": 3
   },
   "file_extension": ".py",
   "mimetype": "text/x-python",
   "name": "python",
   "nbconvert_exporter": "python",
   "pygments_lexer": "ipython3",
   "version": "3.11.4"
  }
 },
 "nbformat": 4,
 "nbformat_minor": 2
}
